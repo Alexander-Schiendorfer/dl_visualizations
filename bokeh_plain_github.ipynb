{
 "cells": [
  {
   "cell_type": "code",
   "execution_count": null,
   "metadata": {},
   "outputs": [],
   "source": [
    "!git clone https://github.com/Alexander-Schiendorfer/dl_visualizations/blob/main/bokeh_plain.ipynb\n",
    "%load_ext autoreload\n",
    "%autoreload 2\n",
    "from code_example import show_example\n",
    "show_example()"
   ]
  }
 ],
 "metadata": {
  "language_info": {
   "name": "python"
  }
 },
 "nbformat": 4,
 "nbformat_minor": 2
}
